{
 "cells": [
  {
   "cell_type": "code",
   "execution_count": 33,
   "metadata": {},
   "outputs": [],
   "source": [
    "class ListNode():\n",
    "    def __init__(self, x):\n",
    "        self.val = x\n",
    "        self.next = None\n",
    "\n",
    "class LinkedList():\n",
    "    def __init__(self):\n",
    "        self.headval = None\n",
    "        \n",
    "    def append(self,newdata:str):\n",
    "        newlistnode = ListNode(newdata)\n",
    "        if self.headval is None:\n",
    "            self.headval = newlistnode\n",
    "            return\n",
    "        lastval = self.headval\n",
    "        while lastval.next:\n",
    "            lastval = lastval.next\n",
    "        lastval.next = newlistnode\n",
    "    \n",
    "    def addleft(self,newdata:str):\n",
    "        newlistnode = ListNode(newdata)\n",
    "        \n",
    "        \n",
    "    def showlinkedlist(self):\n",
    "        printval = self.headval\n",
    "        while printval:\n",
    "            print(printval.val)\n",
    "            printval = printval.next"
   ]
  },
  {
   "cell_type": "code",
   "execution_count": 34,
   "metadata": {},
   "outputs": [],
   "source": [
    "li = LinkedList()\n",
    "li.headval = ListNode('ligang')\n",
    "e2 = ListNode(\"bao\")\n",
    "e3 = ListNode(\"feng\")\n",
    "li.headval.next = e2\n",
    "e2.next = e3"
   ]
  },
  {
   "cell_type": "code",
   "execution_count": 35,
   "metadata": {},
   "outputs": [
    {
     "name": "stdout",
     "output_type": "stream",
     "text": [
      "ligang\n",
      "bao\n",
      "feng\n",
      "limouyin\n"
     ]
    }
   ],
   "source": [
    "li.append('limouyin')\n",
    "li.addleft('daren')\n",
    "li.showlinkedlist()"
   ]
  },
  {
   "cell_type": "code",
   "execution_count": null,
   "metadata": {},
   "outputs": [],
   "source": []
  }
 ],
 "metadata": {
  "kernelspec": {
   "display_name": "Python 3",
   "language": "python",
   "name": "python3"
  },
  "language_info": {
   "codemirror_mode": {
    "name": "ipython",
    "version": 3
   },
   "file_extension": ".py",
   "mimetype": "text/x-python",
   "name": "python",
   "nbconvert_exporter": "python",
   "pygments_lexer": "ipython3",
   "version": "3.7.3"
  }
 },
 "nbformat": 4,
 "nbformat_minor": 2
}
