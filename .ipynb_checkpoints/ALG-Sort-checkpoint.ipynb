{
 "cells": [
  {
   "cell_type": "code",
   "execution_count": 40,
   "metadata": {},
   "outputs": [],
   "source": [
    "#快速排序\n",
    "def qsort(arr):\n",
    "    if len(arr) < 2:\n",
    "        return arr\n",
    "    else:\n",
    "        pivot = arr[0]\n",
    "        less = [i for i in arr[1:] if i <= pivot]\n",
    "        greater = [i for i in arr[1:] if i > pivot]\n",
    "        return qsort(less) + [pivot] + qsort(greater)"
   ]
  },
  {
   "cell_type": "code",
   "execution_count": 41,
   "metadata": {},
   "outputs": [
    {
     "data": {
      "text/plain": [
       "[2, 3, 4, 5, 6, 8]"
      ]
     },
     "execution_count": 41,
     "metadata": {},
     "output_type": "execute_result"
    }
   ],
   "source": [
    "qsort([4, 6, 8, 3, 2, 5])"
   ]
  },
  {
   "cell_type": "code",
   "execution_count": 17,
   "metadata": {},
   "outputs": [],
   "source": [
    "#选择排序\n",
    "def findminvalue(arr):\n",
    "    minvalue = arr[0]\n",
    "    minvalue_index = 0\n",
    "    for i in range(1, len(arr)):\n",
    "        if arr[i] < minvalue:\n",
    "            minvalue = arr[i]\n",
    "            minvalue_index = i\n",
    "    return minvalue_index"
   ]
  },
  {
   "cell_type": "code",
   "execution_count": 19,
   "metadata": {},
   "outputs": [
    {
     "data": {
      "text/plain": [
       "3"
      ]
     },
     "execution_count": 19,
     "metadata": {},
     "output_type": "execute_result"
    }
   ],
   "source": [
    "findminvalue([5, 9, 6, 3])"
   ]
  },
  {
   "cell_type": "code",
   "execution_count": 20,
   "metadata": {},
   "outputs": [],
   "source": [
    "def sesort(arr):\n",
    "    newarr = []\n",
    "    for i in range(len(arr)):\n",
    "        minvalue = findminvalue(arr)\n",
    "        newarr.append(arr.pop(minvalue))\n",
    "    return newarr"
   ]
  },
  {
   "cell_type": "code",
   "execution_count": 22,
   "metadata": {},
   "outputs": [
    {
     "data": {
      "text/plain": [
       "[3, 4, 5, 6, 9, 10, 20]"
      ]
     },
     "execution_count": 22,
     "metadata": {},
     "output_type": "execute_result"
    }
   ],
   "source": [
    "sesort([6, 3, 4, 5, 9, 10, 20])"
   ]
  },
  {
   "cell_type": "code",
   "execution_count": 45,
   "metadata": {},
   "outputs": [],
   "source": [
    "class Sort():\n",
    "    def __init__(self, arr):\n",
    "        self.arr = arr\n",
    "        \n",
    "    def qsort(self):\n",
    "        if len(self.arr) < 2:\n",
    "            return self.arr\n",
    "        else:\n",
    "            pivot = self.arr[0]\n",
    "            less = [i for i in self.arr[1:] if i <= pivot]\n",
    "            greater = [i for i in self.arr[1:] if i > pivot]\n",
    "            return qsort(less) + [pivot] + qsort(greater)\n",
    "        \n",
    "    def findminvalue(self):\n",
    "        minvalue = self.arr[0]\n",
    "        minvalue_index = 0\n",
    "        for i in range(1, len(self.arr)):\n",
    "            if self.arr[i] < minvalue:\n",
    "                minvalue = self.arr[i]\n",
    "                minvalue_index = i\n",
    "        return minvalue_index\n",
    "    \n",
    "    def sesort(self):\n",
    "        newarr = []\n",
    "        for i in range(len(self.arr)):\n",
    "            minvalue = findminvalue(self.arr)\n",
    "            newarr.append(self.arr.pop(minvalue))\n",
    "        return newarr"
   ]
  },
  {
   "cell_type": "code",
   "execution_count": 46,
   "metadata": {},
   "outputs": [
    {
     "data": {
      "text/plain": [
       "[2, 3, 4, 5, 6, 8]"
      ]
     },
     "execution_count": 46,
     "metadata": {},
     "output_type": "execute_result"
    }
   ],
   "source": [
    "sortlist = Sort([4, 6, 8, 3, 2, 5])\n",
    "sortlist.qsort()"
   ]
  },
  {
   "cell_type": "code",
   "execution_count": null,
   "metadata": {},
   "outputs": [],
   "source": []
  }
 ],
 "metadata": {
  "kernelspec": {
   "display_name": "Python 3",
   "language": "python",
   "name": "python3"
  },
  "language_info": {
   "codemirror_mode": {
    "name": "ipython",
    "version": 3
   },
   "file_extension": ".py",
   "mimetype": "text/x-python",
   "name": "python",
   "nbconvert_exporter": "python",
   "pygments_lexer": "ipython3",
   "version": "3.7.3"
  }
 },
 "nbformat": 4,
 "nbformat_minor": 2
}
